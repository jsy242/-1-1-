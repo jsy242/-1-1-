{
  "nbformat": 4,
  "nbformat_minor": 0,
  "metadata": {
    "colab": {
      "name": "1월2일 Level 1 신규 아이디 추천.ipynb",
      "provenance": []
    },
    "kernelspec": {
      "name": "python3",
      "display_name": "Python 3"
    },
    "language_info": {
      "name": "python"
    }
  },
  "cells": [
    {
      "cell_type": "markdown",
      "source": [
        "신규 아이디 추천\n",
        "https://programmers.co.kr/learn/courses/30/lessons/72410\n",
        "\n",
        "다른 사람이 푼것을 보니까 정규포현식으로 하면 기가막히게 가능하더라..."
      ],
      "metadata": {
        "id": "YmAd0FpBF8vZ"
      }
    },
    {
      "cell_type": "code",
      "execution_count": 67,
      "metadata": {
        "id": "XB5sqDEAcKN7"
      },
      "outputs": [],
      "source": [
        "def solution(new_id):\n",
        "    new_id = str.lower(new_id)\n",
        "    answer = ''\n",
        "    for word in new_id:\n",
        "        if word.isalnum() or word in '-_.':\n",
        "            answer += word\n",
        "    new_id = answer\n",
        "    while '..' in new_id:\n",
        "        new_id = new_id.replace('..', '.')\n",
        "    new_id = new_id[1:] if new_id[0] == '.' and len(new_id) > 1 else new_id\n",
        "    new_id = new_id[:-1] if new_id[-1] == '.' else new_id\n",
        "\n",
        "    new_id = 'a' if new_id == '' else new_id\n",
        "\n",
        "    if len(new_id) >= 16:\n",
        "        new_id = new_id[:15]\n",
        "        if new_id[-1] == '.':\n",
        "            new_id = new_id[:-1]\n",
        "    if len(new_id) < 2: new_id = new_id + new_id[-1]\n",
        "    if len(new_id) < 3: new_id = new_id + new_id[-1]\n",
        "    answer = new_id\n",
        "    return answer"
      ]
    },
    {
      "cell_type": "code",
      "source": [
        ""
      ],
      "metadata": {
        "id": "_NYTtT4c87ya"
      },
      "execution_count": null,
      "outputs": []
    }
  ]
}